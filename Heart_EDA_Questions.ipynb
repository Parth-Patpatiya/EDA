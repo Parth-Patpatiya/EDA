{
 "cells": [
  {
   "cell_type": "markdown",
   "id": "5ccea8b0",
   "metadata": {},
   "source": [
    "# 🫀 Heart Disease Dataset - EDA + Pandas Questions\n",
    "\n",
    "This notebook contains 30 questions to explore the heart disease dataset using **Exploratory Data Analysis (EDA)** and **Pandas**.\n"
   ]
  },
  {
   "cell_type": "code",
   "execution_count": null,
   "id": "0ecbc5b9",
   "metadata": {},
   "outputs": [],
   "source": [
    "import pandas as pd\n",
    "import matplotlib.pyplot as plt\n",
    "import seaborn as sns\n",
    "\n",
    "# Load data\n",
    "df = pd.read_csv('heart.csv')\n",
    "df.head()"
   ]
  },
  {
   "cell_type": "markdown",
   "id": "3b5a3a75",
   "metadata": {},
   "source": [
    "### 1. What are the dimensions of the dataset?"
   ]
  },
  {
   "cell_type": "code",
   "execution_count": null,
   "id": "58909c53",
   "metadata": {},
   "outputs": [],
   "source": [
    "# Your code here"
   ]
  },
  {
   "cell_type": "markdown",
   "id": "fbb0ba69",
   "metadata": {},
   "source": [
    "### 2. What are the column names and their data types?"
   ]
  },
  {
   "cell_type": "code",
   "execution_count": null,
   "id": "c5eb0d84",
   "metadata": {},
   "outputs": [],
   "source": [
    "# Your code here"
   ]
  },
  {
   "cell_type": "markdown",
   "id": "5cb835e6",
   "metadata": {},
   "source": [
    "### 3. Are there any missing values?"
   ]
  },
  {
   "cell_type": "code",
   "execution_count": null,
   "id": "d427928f",
   "metadata": {},
   "outputs": [],
   "source": [
    "# Your code here"
   ]
  },
  {
   "cell_type": "markdown",
   "id": "e50d8d83",
   "metadata": {},
   "source": [
    "### 4. What is the percentage of missing data per column?"
   ]
  },
  {
   "cell_type": "code",
   "execution_count": null,
   "id": "7c1e541b",
   "metadata": {},
   "outputs": [],
   "source": [
    "# Your code here"
   ]
  },
  {
   "cell_type": "markdown",
   "id": "96278a73",
   "metadata": {},
   "source": [
    "### 5. Are there any duplicate rows in the dataset?"
   ]
  },
  {
   "cell_type": "code",
   "execution_count": null,
   "id": "29e45e55",
   "metadata": {},
   "outputs": [],
   "source": [
    "# Your code here"
   ]
  },
  {
   "cell_type": "markdown",
   "id": "3e5a4e8d",
   "metadata": {},
   "source": [
    "### 6. What is the statistical summary of numerical columns?"
   ]
  },
  {
   "cell_type": "code",
   "execution_count": null,
   "id": "eca94825",
   "metadata": {},
   "outputs": [],
   "source": [
    "# Your code here"
   ]
  },
  {
   "cell_type": "markdown",
   "id": "3b8c738d",
   "metadata": {},
   "source": [
    "### 7. What are the unique values in each categorical column?"
   ]
  },
  {
   "cell_type": "code",
   "execution_count": null,
   "id": "4066ac44",
   "metadata": {},
   "outputs": [],
   "source": [
    "# Your code here"
   ]
  },
  {
   "cell_type": "markdown",
   "id": "9c207ebd",
   "metadata": {},
   "source": [
    "### 8. What is the distribution of the target variable `HeartDisease`?"
   ]
  },
  {
   "cell_type": "code",
   "execution_count": null,
   "id": "39f88095",
   "metadata": {},
   "outputs": [],
   "source": [
    "# Your code here"
   ]
  },
  {
   "cell_type": "markdown",
   "id": "21ba09ad",
   "metadata": {},
   "source": [
    "### 9. What is the age distribution of the patients?"
   ]
  },
  {
   "cell_type": "code",
   "execution_count": null,
   "id": "358279e7",
   "metadata": {},
   "outputs": [],
   "source": [
    "# Your code here"
   ]
  },
  {
   "cell_type": "markdown",
   "id": "fc30d0f7",
   "metadata": {},
   "source": [
    "### 10. What are the most common types of `ChestPainType`?"
   ]
  },
  {
   "cell_type": "code",
   "execution_count": null,
   "id": "f80ee992",
   "metadata": {},
   "outputs": [],
   "source": [
    "# Your code here"
   ]
  },
  {
   "cell_type": "markdown",
   "id": "42ba1f77",
   "metadata": {},
   "source": [
    "### 11. What is the distribution of `Cholesterol` levels?"
   ]
  },
  {
   "cell_type": "code",
   "execution_count": null,
   "id": "da8b78d7",
   "metadata": {},
   "outputs": [],
   "source": [
    "# Your code here"
   ]
  },
  {
   "cell_type": "markdown",
   "id": "4f2c968f",
   "metadata": {},
   "source": [
    "### 12. How many patients have `FastingBS` as 1 (fasting blood sugar > 120 mg/dl)?"
   ]
  },
  {
   "cell_type": "code",
   "execution_count": null,
   "id": "d1c38cb1",
   "metadata": {},
   "outputs": [],
   "source": [
    "# Your code here"
   ]
  },
  {
   "cell_type": "markdown",
   "id": "c2e53bb9",
   "metadata": {},
   "source": [
    "### 13. What is the average `RestingBP` grouped by `Sex`?"
   ]
  },
  {
   "cell_type": "code",
   "execution_count": null,
   "id": "f815958e",
   "metadata": {},
   "outputs": [],
   "source": [
    "# Your code here"
   ]
  },
  {
   "cell_type": "markdown",
   "id": "babe9695",
   "metadata": {},
   "source": [
    "### 14. What is the distribution of `Oldpeak`?"
   ]
  },
  {
   "cell_type": "code",
   "execution_count": null,
   "id": "f20aeebe",
   "metadata": {},
   "outputs": [],
   "source": [
    "# Your code here"
   ]
  },
  {
   "cell_type": "markdown",
   "id": "b4a73f94",
   "metadata": {},
   "source": [
    "### 15. How does `ST_Slope` vary across the dataset?"
   ]
  },
  {
   "cell_type": "code",
   "execution_count": null,
   "id": "935142e0",
   "metadata": {},
   "outputs": [],
   "source": [
    "# Your code here"
   ]
  },
  {
   "cell_type": "markdown",
   "id": "42804ea6",
   "metadata": {},
   "source": [
    "### 16. What is the relationship between `Age` and `HeartDisease`?"
   ]
  },
  {
   "cell_type": "code",
   "execution_count": null,
   "id": "0d8e1bc4",
   "metadata": {},
   "outputs": [],
   "source": [
    "# Your code here"
   ]
  },
  {
   "cell_type": "markdown",
   "id": "f0f54668",
   "metadata": {},
   "source": [
    "### 17. How does `ChestPainType` correlate with `HeartDisease`?"
   ]
  },
  {
   "cell_type": "code",
   "execution_count": null,
   "id": "d0d358be",
   "metadata": {},
   "outputs": [],
   "source": [
    "# Your code here"
   ]
  },
  {
   "cell_type": "markdown",
   "id": "61a82777",
   "metadata": {},
   "source": [
    "### 18. Compare `MaxHR` for those with and without `HeartDisease`."
   ]
  },
  {
   "cell_type": "code",
   "execution_count": null,
   "id": "600ca558",
   "metadata": {},
   "outputs": [],
   "source": [
    "# Your code here"
   ]
  },
  {
   "cell_type": "markdown",
   "id": "45f11e24",
   "metadata": {},
   "source": [
    "### 19. Is there a significant difference in `Cholesterol` levels between sexes?"
   ]
  },
  {
   "cell_type": "code",
   "execution_count": null,
   "id": "01bc08f2",
   "metadata": {},
   "outputs": [],
   "source": [
    "# Your code here"
   ]
  },
  {
   "cell_type": "markdown",
   "id": "412f5e59",
   "metadata": {},
   "source": [
    "### 20. What is the effect of `ExerciseAngina` on `HeartDisease`?"
   ]
  },
  {
   "cell_type": "code",
   "execution_count": null,
   "id": "7b42cda7",
   "metadata": {},
   "outputs": [],
   "source": [
    "# Your code here"
   ]
  },
  {
   "cell_type": "markdown",
   "id": "c0c345d7",
   "metadata": {},
   "source": [
    "### 21. What is the average `Oldpeak` for different `ST_Slope` categories?"
   ]
  },
  {
   "cell_type": "code",
   "execution_count": null,
   "id": "d456f5d1",
   "metadata": {},
   "outputs": [],
   "source": [
    "# Your code here"
   ]
  },
  {
   "cell_type": "markdown",
   "id": "266d140f",
   "metadata": {},
   "source": [
    "### 22. How does `RestingECG` distribution differ in `HeartDisease` patients?"
   ]
  },
  {
   "cell_type": "code",
   "execution_count": null,
   "id": "8ede9082",
   "metadata": {},
   "outputs": [],
   "source": [
    "# Your code here"
   ]
  },
  {
   "cell_type": "markdown",
   "id": "d2db39d6",
   "metadata": {},
   "source": [
    "### 23. What is the average `RestingBP` by `ChestPainType`?"
   ]
  },
  {
   "cell_type": "code",
   "execution_count": null,
   "id": "4d0180e7",
   "metadata": {},
   "outputs": [],
   "source": [
    "# Your code here"
   ]
  },
  {
   "cell_type": "markdown",
   "id": "fd701499",
   "metadata": {},
   "source": [
    "### 24. What is the `MaxHR` distribution grouped by `Sex`?"
   ]
  },
  {
   "cell_type": "code",
   "execution_count": null,
   "id": "7060a133",
   "metadata": {},
   "outputs": [],
   "source": [
    "# Your code here"
   ]
  },
  {
   "cell_type": "markdown",
   "id": "24631689",
   "metadata": {},
   "source": [
    "### 25. Group patients by `Age` bins and find heart disease prevalence."
   ]
  },
  {
   "cell_type": "code",
   "execution_count": null,
   "id": "506d67c8",
   "metadata": {},
   "outputs": [],
   "source": [
    "# Your code here"
   ]
  },
  {
   "cell_type": "markdown",
   "id": "0e82a96d",
   "metadata": {},
   "source": [
    "### 26. What is the mean `Cholesterol` grouped by `ST_Slope`?"
   ]
  },
  {
   "cell_type": "code",
   "execution_count": null,
   "id": "0f74b8b6",
   "metadata": {},
   "outputs": [],
   "source": [
    "# Your code here"
   ]
  },
  {
   "cell_type": "markdown",
   "id": "57bc83b4",
   "metadata": {},
   "source": [
    "### 27. What are the correlations among numerical features?"
   ]
  },
  {
   "cell_type": "code",
   "execution_count": null,
   "id": "bb59a5a5",
   "metadata": {},
   "outputs": [],
   "source": [
    "# Your code here"
   ]
  },
  {
   "cell_type": "markdown",
   "id": "a5dccf83",
   "metadata": {},
   "source": [
    "### 28. Which features have the highest correlation with `HeartDisease`?"
   ]
  },
  {
   "cell_type": "code",
   "execution_count": null,
   "id": "f35f933e",
   "metadata": {},
   "outputs": [],
   "source": [
    "# Your code here"
   ]
  },
  {
   "cell_type": "markdown",
   "id": "2431eae9",
   "metadata": {},
   "source": [
    "### 29. Are there any patterns in patients having both high `Cholesterol` and `Oldpeak`?"
   ]
  },
  {
   "cell_type": "code",
   "execution_count": null,
   "id": "7e864684",
   "metadata": {},
   "outputs": [],
   "source": [
    "# Your code here"
   ]
  },
  {
   "cell_type": "markdown",
   "id": "ba428416",
   "metadata": {},
   "source": [
    "### 30. Build a heatmap to show correlations between numerical features."
   ]
  },
  {
   "cell_type": "code",
   "execution_count": null,
   "id": "a4b3a7bc",
   "metadata": {},
   "outputs": [],
   "source": [
    "# Your code here"
   ]
  }
 ],
 "metadata": {},
 "nbformat": 4,
 "nbformat_minor": 5
}
